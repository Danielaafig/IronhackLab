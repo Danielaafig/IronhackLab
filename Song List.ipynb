{
 "cells": [
  {
   "cell_type": "markdown",
   "id": "2afcc8ec",
   "metadata": {},
   "source": [
    "- SONG LIST"
   ]
  },
  {
   "cell_type": "markdown",
   "id": "78a74977",
   "metadata": {},
   "source": [
    "User experience:\n",
    "\n",
    "What happens if the user inputs a song that doesn't exist?\n",
    "What do we do with songs that have the same name, but a different artist?\n",
    "How do we deal with typos?\n",
    "Architecture:\n",
    "\n",
    "Do we build the interaction with the user in the same notebook as the web-scraping?\n",
    "Where do we store the scraped songs?\n",
    "Scheduling / Automation:\n",
    "\n",
    "Should we scrape billboard / wikipedia every time a user sends a request?\n",
    "Testing:\n",
    "\n",
    "Does it work when you test it with a real user (a colleague)?\n",
    "Chances are that more issues will appear, and that not all of them will be solved during this session. But what's important is that the issues have been identified."
   ]
  },
  {
   "cell_type": "code",
   "execution_count": 99,
   "id": "64577525",
   "metadata": {},
   "outputs": [],
   "source": [
    "from bs4 import BeautifulSoup\n",
    "import requests\n",
    "import pandas as pd"
   ]
  },
  {
   "cell_type": "code",
   "execution_count": 100,
   "id": "5b946113",
   "metadata": {},
   "outputs": [
    {
     "data": {
      "text/html": [
       "<div>\n",
       "<style scoped>\n",
       "    .dataframe tbody tr th:only-of-type {\n",
       "        vertical-align: middle;\n",
       "    }\n",
       "\n",
       "    .dataframe tbody tr th {\n",
       "        vertical-align: top;\n",
       "    }\n",
       "\n",
       "    .dataframe thead th {\n",
       "        text-align: right;\n",
       "    }\n",
       "</style>\n",
       "<table border=\"1\" class=\"dataframe\">\n",
       "  <thead>\n",
       "    <tr style=\"text-align: right;\">\n",
       "      <th></th>\n",
       "      <th>Unnamed: 0</th>\n",
       "      <th>songs</th>\n",
       "      <th>artists</th>\n",
       "    </tr>\n",
       "  </thead>\n",
       "  <tbody>\n",
       "    <tr>\n",
       "      <th>0</th>\n",
       "      <td>0</td>\n",
       "      <td>Anti-Hero</td>\n",
       "      <td>Taylor Swift</td>\n",
       "    </tr>\n",
       "    <tr>\n",
       "      <th>1</th>\n",
       "      <td>1</td>\n",
       "      <td>Rich Flex</td>\n",
       "      <td>Drake &amp; 21 Savage</td>\n",
       "    </tr>\n",
       "    <tr>\n",
       "      <th>2</th>\n",
       "      <td>2</td>\n",
       "      <td>Unholy</td>\n",
       "      <td>Sam Smith &amp; Kim Petras</td>\n",
       "    </tr>\n",
       "    <tr>\n",
       "      <th>3</th>\n",
       "      <td>3</td>\n",
       "      <td>Bad Habit</td>\n",
       "      <td>Steve Lacy</td>\n",
       "    </tr>\n",
       "    <tr>\n",
       "      <th>4</th>\n",
       "      <td>4</td>\n",
       "      <td>As It Was</td>\n",
       "      <td>Harry Styles</td>\n",
       "    </tr>\n",
       "    <tr>\n",
       "      <th>...</th>\n",
       "      <td>...</td>\n",
       "      <td>...</td>\n",
       "      <td>...</td>\n",
       "    </tr>\n",
       "    <tr>\n",
       "      <th>95</th>\n",
       "      <td>95</td>\n",
       "      <td>The Great War</td>\n",
       "      <td>Taylor Swift</td>\n",
       "    </tr>\n",
       "    <tr>\n",
       "      <th>96</th>\n",
       "      <td>96</td>\n",
       "      <td>Gotta Move On</td>\n",
       "      <td>Diddy &amp; Bryson Tiller</td>\n",
       "    </tr>\n",
       "    <tr>\n",
       "      <th>97</th>\n",
       "      <td>97</td>\n",
       "      <td>Forget Me</td>\n",
       "      <td>Lewis Capaldi</td>\n",
       "    </tr>\n",
       "    <tr>\n",
       "      <th>98</th>\n",
       "      <td>98</td>\n",
       "      <td>Going, Going, Gone</td>\n",
       "      <td>Luke Combs</td>\n",
       "    </tr>\n",
       "    <tr>\n",
       "      <th>99</th>\n",
       "      <td>99</td>\n",
       "      <td>Bigger Than The Whole Sky</td>\n",
       "      <td>Taylor Swift</td>\n",
       "    </tr>\n",
       "  </tbody>\n",
       "</table>\n",
       "<p>100 rows × 3 columns</p>\n",
       "</div>"
      ],
      "text/plain": [
       "    Unnamed: 0                      songs                 artists\n",
       "0            0                  Anti-Hero            Taylor Swift\n",
       "1            1                  Rich Flex       Drake & 21 Savage\n",
       "2            2                     Unholy  Sam Smith & Kim Petras\n",
       "3            3                  Bad Habit              Steve Lacy\n",
       "4            4                  As It Was            Harry Styles\n",
       "..         ...                        ...                     ...\n",
       "95          95              The Great War            Taylor Swift\n",
       "96          96              Gotta Move On   Diddy & Bryson Tiller\n",
       "97          97                  Forget Me           Lewis Capaldi\n",
       "98          98         Going, Going, Gone              Luke Combs\n",
       "99          99  Bigger Than The Whole Sky            Taylor Swift\n",
       "\n",
       "[100 rows x 3 columns]"
      ]
     },
     "execution_count": 100,
     "metadata": {},
     "output_type": "execute_result"
    }
   ],
   "source": [
    "song_df = pd.read_csv(\"/Users/juliamarques/Documents/GitHub/IronhackLab/song_list100.csv\")\n",
    "song_df"
   ]
  },
  {
   "cell_type": "code",
   "execution_count": 101,
   "id": "8f2ddd6d",
   "metadata": {},
   "outputs": [
    {
     "name": "stdout",
     "output_type": "stream",
     "text": [
      "['anti-hero', 'rich flex', 'unholy', 'bad habit', 'as it was', 'major distribution', \"i'm good (blue)\", 'lift me up', 'spin bout u', 'on bs', 'super freaky girl', 'die for you', 'you proof', 'circo loco', 'pussy & millions', 'i like you (a happier song)', 'under the influence', 'vegas', 'something in the orange', 'cuff it', 'lavender haze', 'privileged rappers', 'wasted on you', \"i ain't worried\", 'all i want for christmas is you', 'backoutsideboyz', 'jimmy cooks', 'sunroof', 'tomorrow 2', 'wait for u', 'she had me at heads carolina', 'titi me pregunto', 'midnight rain', 'broke boys', 'bejeweled', 'the kind of love we make', 'hours in silence', 'about damn time', 'maroon', 'made you look', \"rockin' around the christmas tree\", 'golden hour', 'thank god', 'unstoppable', 'karma', 'hold me closer', 'just wanna rock', \"you're on your own, kid\", 'snow on the beach', 'jingle bell rock', 'wait in the truck', 'jumbotron shit poppin', 'half of me', 'fall in love', 'shirt', 'until i found you', 'rock and a hard place', 'treacherous twins', 'hotel lobby (unc and phew)', 'what my world spins around', 'victoria’s secret', 'vigilante shit', 'son of a sinner', \"star walkin' (league of legends worlds anthem)\", 'question...?', \"don't come lookin'\", 'middle of the ocean', 'romantic homicide', 'more m’s', 'mastermind', 'billie eilish.', 'die for you', 'labyrinth', 'whiskey on you', 'free mind', 'california breeze', 'sweet nothing', 'heyy', 'no se va', \"would've, could've, should've\", \"i guess it's fuck me\", 'calm down', 'all mine', 'freestyle', 'country on', 'heart like a truck', 'miss you', 'wishful drinking', 'music for a sushi restaurant', 'pick me up', 'break my heart', 'la bachata', 'forever', 'last last', '3am on glenwood', 'the great war', 'gotta move on', 'forget me', 'going, going, gone', 'bigger than the whole sky']\n"
     ]
    }
   ],
   "source": [
    "list_lower = []\n",
    "for songs in song_df.songs:\n",
    "    list_lower.append(songs.lower())\n",
    "print (list_lower)"
   ]
  },
  {
   "cell_type": "code",
   "execution_count": 102,
   "id": "7f7979b3",
   "metadata": {},
   "outputs": [],
   "source": [
    "def my_function():\n",
    "    x = input(\"Please write a name of a song you like: \")\n",
    "    #x != \n",
    "    if x in list_lower:\n",
    "        print (\"Great. Your song is on 100 top songs list!\") \n",
    "    else:\n",
    "        print (\"This song is not in the list. Try again!\")\n",
    "        return my_function()"
   ]
  },
  {
   "cell_type": "code",
   "execution_count": 103,
   "id": "27cd51c8",
   "metadata": {},
   "outputs": [
    {
     "name": "stdout",
     "output_type": "stream",
     "text": [
      "Please write a name of a song you like: dajsdha\n",
      "This song is not in the list. Try again!\n",
      "Please write a name of a song you like: asjnd\n",
      "This song is not in the list. Try again!\n",
      "Please write a name of a song you like: Taylor\n",
      "This song is not in the list. Try again!\n",
      "Please write a name of a song you like: sweet nothing\n",
      "Great. Your song is on 100 top songs list!\n"
     ]
    }
   ],
   "source": [
    "my_function()"
   ]
  },
  {
   "cell_type": "code",
   "execution_count": 104,
   "id": "dac7ec87",
   "metadata": {},
   "outputs": [
    {
     "data": {
      "text/plain": [
       "Taylor Swift                     15\n",
       "Drake & 21 Savage                10\n",
       "Drake                             4\n",
       "Lil Baby                          3\n",
       "Morgan Wallen                     2\n",
       "                                 ..\n",
       "Kane Brown With Katelyn Brown     1\n",
       "Sia                               1\n",
       "Elton John & Britney Spears       1\n",
       "Lil Uzi Vert                      1\n",
       "Lewis Capaldi                     1\n",
       "Name: artists, Length: 68, dtype: int64"
      ]
     },
     "execution_count": 104,
     "metadata": {},
     "output_type": "execute_result"
    }
   ],
   "source": [
    "song_df.artists.value_counts()"
   ]
  },
  {
   "cell_type": "code",
   "execution_count": 115,
   "id": "2a31a80f",
   "metadata": {},
   "outputs": [],
   "source": [
    "# This is an alternative way to do it + typo correction (50%) + recommendation of a song - top choice"
   ]
  },
  {
   "cell_type": "code",
   "execution_count": 116,
   "id": "a1d73062",
   "metadata": {},
   "outputs": [],
   "source": [
    "import difflib\n",
    "import random\n",
    "def song():\n",
    "    user_song = input()\n",
    "    if str.lower(user_song) in list_lower:\n",
    "        return(random.choice(list_lower))    #this is where the recomendation comes from\n",
    "    elif difflib.get_close_matches(user_song, list_lower, 1, 0.5)!=[]: #50% closer to the name (spelling)\n",
    "        print(random.choice(list_lower))\n",
    "    else:\n",
    "        return \"Your song is not on the hot list\""
   ]
  },
  {
   "cell_type": "code",
   "execution_count": 117,
   "id": "91117f49",
   "metadata": {},
   "outputs": [
    {
     "name": "stdout",
     "output_type": "stream",
     "text": [
      "anti hero\n",
      "privileged rappers\n"
     ]
    }
   ],
   "source": [
    "song()"
   ]
  },
  {
   "cell_type": "markdown",
   "id": "c793a700",
   "metadata": {},
   "source": [
    "Optional: Practice web scraping\n",
    "\n",
    "As you've seen, scraping the internet is a skill that can get you all sorts of information. Here are some little challenges that you can try to gain more experience in the field:\n",
    "\n",
    "Retrieve an arbitrary Wikipedia page of \"Python\" and create a list of links on that page: url ='https://en.wikipedia.org/wiki/Python'\n",
    "Find the number of titles that have changed in the United States Code since its last release point: url = 'http://uscode.house.gov/download/download.shtml'\n",
    "Create a Python list with the top ten FBI's Most Wanted names: url = 'https://www.fbi.gov/wanted/topten'\n",
    "Display the 20 latest earthquakes info (date, time, latitude, longitude and region name) by the EMSC as a pandas dataframe: url = 'https://www.emsc-csem.org/Earthquake/'\n",
    "List all language names and number of related articles in the order they appear in wikipedia.org: url = 'https://www.wikipedia.org/'\n",
    "A list with the different kind of datasets available in data.gov.uk: url = 'https://data.gov.uk/'\n",
    "Display the top 10 languages by number of native speakers stored in a pandas dataframe: url = 'https://en.wikipedia.org/wiki/List_of_languages_by_number_of_native_speakers'"
   ]
  },
  {
   "cell_type": "code",
   "execution_count": null,
   "id": "dae47dbb",
   "metadata": {},
   "outputs": [],
   "source": []
  }
 ],
 "metadata": {
  "kernelspec": {
   "display_name": "Python 3 (ipykernel)",
   "language": "python",
   "name": "python3"
  },
  "language_info": {
   "codemirror_mode": {
    "name": "ipython",
    "version": 3
   },
   "file_extension": ".py",
   "mimetype": "text/x-python",
   "name": "python",
   "nbconvert_exporter": "python",
   "pygments_lexer": "ipython3",
   "version": "3.9.13"
  }
 },
 "nbformat": 4,
 "nbformat_minor": 5
}
