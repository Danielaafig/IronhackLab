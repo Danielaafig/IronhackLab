{
 "cells": [
  {
   "cell_type": "code",
   "execution_count": 1,
   "id": "119ec5e1",
   "metadata": {},
   "outputs": [],
   "source": [
    "client_id = \"99cfe7859ae14389876df1c2e866825b\"\n",
    "client_secret =\"ab2dceb174e64838b662aecc7333f1b2\""
   ]
  },
  {
   "cell_type": "code",
   "execution_count": null,
   "id": "d98e763d",
   "metadata": {},
   "outputs": [],
   "source": []
  }
 ],
 "metadata": {
  "kernelspec": {
   "display_name": "Python 3 (ipykernel)",
   "language": "python",
   "name": "python3"
  },
  "language_info": {
   "codemirror_mode": {
    "name": "ipython",
    "version": 3
   },
   "file_extension": ".py",
   "mimetype": "text/x-python",
   "name": "python",
   "nbconvert_exporter": "python",
   "pygments_lexer": "ipython3",
   "version": "3.9.13"
  }
 },
 "nbformat": 4,
 "nbformat_minor": 5
}
